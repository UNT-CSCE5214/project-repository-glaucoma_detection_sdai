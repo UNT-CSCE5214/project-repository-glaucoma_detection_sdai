{
 "cells": [
  {
   "cell_type": "code",
   "execution_count": 1,
   "id": "a40f15e2",
   "metadata": {},
   "outputs": [],
   "source": [
    "import tensorflow as tf\n",
    "from tensorflow.keras.models import Sequential\n",
    "from tensorflow.keras.layers import Dense, Dropout, Activation, Flatten, Conv2D, MaxPooling2D\n",
    "from tensorflow.keras.layers import ZeroPadding2D\n",
    "from tensorflow.keras.layers import BatchNormalization\n",
    "from tensorflow.keras.preprocessing.image import ImageDataGenerator"
   ]
  },
  {
   "cell_type": "code",
   "execution_count": 2,
   "id": "fcd1de68",
   "metadata": {},
   "outputs": [],
   "source": [
    "model = Sequential()"
   ]
  },
  {
   "cell_type": "code",
   "execution_count": 3,
   "id": "a06803eb",
   "metadata": {},
   "outputs": [],
   "source": [
    "model.add(Conv2D(64, (9, 9), input_shape=(100,100,3),padding='same'))\n",
    "model.add(BatchNormalization())\n",
    "model.add(Activation('relu'))\n",
    "model.add(MaxPooling2D(pool_size=(2, 2)))"
   ]
  },
  {
   "cell_type": "code",
   "execution_count": 4,
   "id": "3e564de9",
   "metadata": {},
   "outputs": [],
   "source": [
    "model.add(Conv2D(128, (5, 5), padding='same'))\n",
    "model.add(BatchNormalization())\n",
    "model.add(Activation('relu'))\n",
    "model.add(MaxPooling2D(pool_size=(2, 2)))"
   ]
  },
  {
   "cell_type": "code",
   "execution_count": 5,
   "id": "8111a0cc",
   "metadata": {},
   "outputs": [],
   "source": [
    "model.add(ZeroPadding2D((1, 1)))\n",
    "model.add(Conv2D(256, (3, 3), padding='same'))\n",
    "model.add(BatchNormalization())\n",
    "model.add(Activation('relu'))\n",
    "model.add(MaxPooling2D(pool_size=(2, 2)))"
   ]
  },
  {
   "cell_type": "code",
   "execution_count": 6,
   "id": "f02bdccc",
   "metadata": {},
   "outputs": [],
   "source": [
    "model.add(ZeroPadding2D((1, 1)))\n",
    "model.add(Conv2D(512, (3, 3), padding='same'))\n",
    "model.add(BatchNormalization())\n",
    "model.add(Activation('relu'))"
   ]
  },
  {
   "cell_type": "code",
   "execution_count": 7,
   "id": "eb0f39d9",
   "metadata": {},
   "outputs": [],
   "source": [
    "model.add(ZeroPadding2D((1, 1)))\n",
    "model.add(Conv2D(512, (3, 3), padding='same'))\n",
    "model.add(BatchNormalization())\n",
    "model.add(Activation('relu'))\n",
    "model.add(MaxPooling2D(pool_size=(2, 2)))"
   ]
  },
  {
   "cell_type": "code",
   "execution_count": 8,
   "id": "db495889",
   "metadata": {},
   "outputs": [],
   "source": [
    "model.add(Flatten())\n",
    "model.add(Dense(64))\n",
    "model.add(BatchNormalization())\n",
    "model.add(Activation('relu'))\n",
    "model.add(Dropout(0.5))"
   ]
  },
  {
   "cell_type": "code",
   "execution_count": 9,
   "id": "a57db61d",
   "metadata": {},
   "outputs": [],
   "source": [
    "model.add(Dense(128))\n",
    "model.add(BatchNormalization())\n",
    "model.add(Activation('relu'))\n",
    "model.add(Dropout(0.5))"
   ]
  },
  {
   "cell_type": "code",
   "execution_count": 10,
   "id": "7df26b04",
   "metadata": {},
   "outputs": [],
   "source": [
    "model.add(Dense(1))\n",
    "model.add(BatchNormalization())\n",
    "model.add(Activation('sigmoid'))"
   ]
  },
  {
   "cell_type": "code",
   "execution_count": 11,
   "id": "99be57d0",
   "metadata": {},
   "outputs": [],
   "source": [
    "model.compile(loss='binary_crossentropy', optimizer='adam', metrics=['accuracy'])"
   ]
  },
  {
   "cell_type": "code",
   "execution_count": 12,
   "id": "6eb93f2e",
   "metadata": {},
   "outputs": [],
   "source": [
    "train_datagen = ImageDataGenerator(rescale = 1./255,\n",
    "                                   rotation_range=30,\n",
    "                                   shear_range=0.2,\n",
    "                                   zoom_range=[0.8, 1.2],\n",
    "                                    horizontal_flip=True,\n",
    "#                                     vertical_flip = True,\n",
    "                                    fill_mode='nearest')"
   ]
  },
  {
   "cell_type": "code",
   "execution_count": 13,
   "id": "20c33d51",
   "metadata": {},
   "outputs": [],
   "source": [
    "test_datagen = ImageDataGenerator(rescale = 1./255)"
   ]
  },
  {
   "cell_type": "code",
   "execution_count": 14,
   "id": "990bf631",
   "metadata": {},
   "outputs": [
    {
     "name": "stdout",
     "output_type": "stream",
     "text": [
      "Found 184 images belonging to 3 classes.\n",
      "Found 184 images belonging to 3 classes.\n"
     ]
    }
   ],
   "source": [
    "training_set = train_datagen.flow_from_directory(r'E:\\UNT_FALL2022\\UNT_SDAI\\SDAI-PROJECT-2\\glaucoma-detector-master',\n",
    "                                                 target_size = (100, 100),\n",
    "                                                 batch_size = 64,\n",
    "                                                 class_mode = 'binary')\n",
    "\n",
    "test_set = test_datagen.flow_from_directory(r'E:\\UNT_FALL2022\\UNT_SDAI\\SDAI-PROJECT-2\\glaucoma-detector-master',\n",
    "                                            target_size = (100, 100),\n",
    "                                            batch_size = 64,\n",
    "                                            class_mode = 'binary')"
   ]
  },
  {
   "cell_type": "code",
   "execution_count": 15,
   "id": "856c25aa",
   "metadata": {},
   "outputs": [
    {
     "name": "stdout",
     "output_type": "stream",
     "text": [
      "Epoch 1/20\n",
      "3/3 [==============================] - ETA: 0s - loss: 0.6903 - accuracy: 0.2120\n",
      "Epoch 1: val_loss improved from inf to 0.46007, saving model to my_model2.h5\n",
      "3/3 [==============================] - 24s 8s/step - loss: 0.6903 - accuracy: 0.2120 - val_loss: 0.4601 - val_accuracy: 0.5000 - lr: 0.0010\n",
      "Epoch 2/20\n",
      "3/3 [==============================] - ETA: 0s - loss: 0.6088 - accuracy: 0.1957\n",
      "Epoch 2: val_loss improved from 0.46007 to 0.16696, saving model to my_model2.h5\n",
      "3/3 [==============================] - 21s 8s/step - loss: 0.6088 - accuracy: 0.1957 - val_loss: 0.1670 - val_accuracy: 0.4946 - lr: 0.0010\n",
      "Epoch 3/20\n",
      "3/3 [==============================] - ETA: 0s - loss: 0.5586 - accuracy: 0.1685\n",
      "Epoch 3: val_loss improved from 0.16696 to -0.05617, saving model to my_model2.h5\n",
      "3/3 [==============================] - 21s 8s/step - loss: 0.5586 - accuracy: 0.1685 - val_loss: -0.0562 - val_accuracy: 0.4837 - lr: 0.0010\n",
      "Epoch 4/20\n",
      "3/3 [==============================] - ETA: 0s - loss: 0.5610 - accuracy: 0.1685\n",
      "Epoch 4: val_loss improved from -0.05617 to -0.38587, saving model to my_model2.h5\n",
      "3/3 [==============================] - 22s 8s/step - loss: 0.5610 - accuracy: 0.1685 - val_loss: -0.3859 - val_accuracy: 0.4837 - lr: 0.0010\n",
      "Epoch 5/20\n",
      "3/3 [==============================] - ETA: 0s - loss: 0.5409 - accuracy: 0.1793\n",
      "Epoch 5: val_loss improved from -0.38587 to -0.86019, saving model to my_model2.h5\n",
      "3/3 [==============================] - 21s 8s/step - loss: 0.5409 - accuracy: 0.1793 - val_loss: -0.8602 - val_accuracy: 0.4946 - lr: 0.0010\n",
      "Epoch 6/20\n",
      "3/3 [==============================] - ETA: 0s - loss: 0.5271 - accuracy: 0.1793\n",
      "Epoch 6: val_loss improved from -0.86019 to -0.93967, saving model to my_model2.h5\n",
      "3/3 [==============================] - 22s 8s/step - loss: 0.5271 - accuracy: 0.1793 - val_loss: -0.9397 - val_accuracy: 0.4946 - lr: 0.0010\n",
      "Epoch 7/20\n",
      "3/3 [==============================] - ETA: 0s - loss: 0.5447 - accuracy: 0.1739\n",
      "Epoch 7: val_loss did not improve from -0.93967\n",
      "3/3 [==============================] - 22s 8s/step - loss: 0.5447 - accuracy: 0.1739 - val_loss: -0.5011 - val_accuracy: 0.4457 - lr: 0.0010\n",
      "Epoch 8/20\n",
      "3/3 [==============================] - ETA: 0s - loss: 0.5027 - accuracy: 0.1304\n",
      "Epoch 8: val_loss did not improve from -0.93967\n",
      "3/3 [==============================] - 22s 8s/step - loss: 0.5027 - accuracy: 0.1304 - val_loss: 0.8009 - val_accuracy: 0.0652 - lr: 0.0010\n",
      "Epoch 9/20\n",
      "3/3 [==============================] - ETA: 0s - loss: 0.4872 - accuracy: 0.1685\n",
      "Epoch 9: ReduceLROnPlateau reducing learning rate to 0.00010000000474974513.\n",
      "\n",
      "Epoch 9: val_loss did not improve from -0.93967\n",
      "3/3 [==============================] - 22s 8s/step - loss: 0.4872 - accuracy: 0.1685 - val_loss: 1.6223 - val_accuracy: 0.0000e+00 - lr: 0.0010\n",
      "Epoch 10/20\n",
      "3/3 [==============================] - ETA: 0s - loss: 0.4685 - accuracy: 0.1739\n",
      "Epoch 10: val_loss did not improve from -0.93967\n",
      "3/3 [==============================] - 21s 8s/step - loss: 0.4685 - accuracy: 0.1739 - val_loss: 1.3238 - val_accuracy: 0.0109 - lr: 1.0000e-04\n",
      "Epoch 11/20\n",
      "3/3 [==============================] - ETA: 0s - loss: 0.4831 - accuracy: 0.1304\n",
      "Epoch 11: val_loss did not improve from -0.93967\n",
      "3/3 [==============================] - 21s 8s/step - loss: 0.4831 - accuracy: 0.1304 - val_loss: 1.0619 - val_accuracy: 0.0435 - lr: 1.0000e-04\n",
      "Epoch 12/20\n",
      "3/3 [==============================] - ETA: 0s - loss: 0.4528 - accuracy: 0.1087\n",
      "Epoch 12: ReduceLROnPlateau reducing learning rate to 1.0000000474974514e-05.\n",
      "\n",
      "Epoch 12: val_loss did not improve from -0.93967\n",
      "3/3 [==============================] - 21s 8s/step - loss: 0.4528 - accuracy: 0.1087 - val_loss: 0.8579 - val_accuracy: 0.0978 - lr: 1.0000e-04\n",
      "Epoch 13/20\n",
      "3/3 [==============================] - ETA: 0s - loss: 0.4638 - accuracy: 0.1250\n",
      "Epoch 13: val_loss did not improve from -0.93967\n",
      "3/3 [==============================] - 21s 8s/step - loss: 0.4638 - accuracy: 0.1250 - val_loss: 0.7290 - val_accuracy: 0.1304 - lr: 1.0000e-05\n",
      "Epoch 14/20\n",
      "3/3 [==============================] - ETA: 0s - loss: 0.4514 - accuracy: 0.1196\n",
      "Epoch 14: val_loss did not improve from -0.93967\n",
      "3/3 [==============================] - 21s 8s/step - loss: 0.4514 - accuracy: 0.1196 - val_loss: 0.6100 - val_accuracy: 0.1630 - lr: 1.0000e-05\n",
      "Epoch 15/20\n",
      "3/3 [==============================] - ETA: 0s - loss: 0.4658 - accuracy: 0.1304\n",
      "Epoch 15: ReduceLROnPlateau reducing learning rate to 1e-05.\n",
      "\n",
      "Epoch 15: val_loss did not improve from -0.93967\n",
      "3/3 [==============================] - 21s 8s/step - loss: 0.4658 - accuracy: 0.1304 - val_loss: 0.5081 - val_accuracy: 0.2500 - lr: 1.0000e-05\n",
      "Epoch 16/20\n",
      "3/3 [==============================] - ETA: 0s - loss: 0.4623 - accuracy: 0.1250\n",
      "Epoch 16: val_loss did not improve from -0.93967\n",
      "3/3 [==============================] - 21s 8s/step - loss: 0.4623 - accuracy: 0.1250 - val_loss: 0.4127 - val_accuracy: 0.3587 - lr: 1.0000e-05\n",
      "Epoch 17/20\n",
      "3/3 [==============================] - ETA: 0s - loss: 0.4688 - accuracy: 0.1413\n",
      "Epoch 17: val_loss did not improve from -0.93967\n",
      "3/3 [==============================] - 22s 8s/step - loss: 0.4688 - accuracy: 0.1413 - val_loss: 0.3391 - val_accuracy: 0.4076 - lr: 1.0000e-05\n",
      "Epoch 18/20\n",
      "3/3 [==============================] - ETA: 0s - loss: 0.4537 - accuracy: 0.1033\n",
      "Epoch 18: val_loss did not improve from -0.93967\n",
      "3/3 [==============================] - 22s 8s/step - loss: 0.4537 - accuracy: 0.1033 - val_loss: 0.2690 - val_accuracy: 0.4402 - lr: 1.0000e-05\n",
      "Epoch 19/20\n",
      "3/3 [==============================] - ETA: 0s - loss: 0.4698 - accuracy: 0.1304\n",
      "Epoch 19: val_loss did not improve from -0.93967\n",
      "3/3 [==============================] - 22s 8s/step - loss: 0.4698 - accuracy: 0.1304 - val_loss: 0.2093 - val_accuracy: 0.4620 - lr: 1.0000e-05\n",
      "Epoch 20/20\n",
      "3/3 [==============================] - ETA: 0s - loss: 0.4693 - accuracy: 0.1467\n",
      "Epoch 20: val_loss did not improve from -0.93967\n",
      "3/3 [==============================] - 21s 8s/step - loss: 0.4693 - accuracy: 0.1467 - val_loss: 0.1555 - val_accuracy: 0.4620 - lr: 1.0000e-05\n"
     ]
    }
   ],
   "source": [
    "my_callbacks = [\n",
    "    # tf.keras.callbacks.EarlyStopping(patience=4, verbose=1),\n",
    "    tf.keras.callbacks.ReduceLROnPlateau(factor=0.1, patience=3, min_lr=0.00001, verbose=1),\n",
    "    tf.keras.callbacks.ModelCheckpoint('my_model2.h5', \n",
    "    verbose=1, save_best_only=True, save_weights_only=False) \n",
    "    ]\n",
    "\n",
    "model.fit(training_set, epochs=20, validation_data = test_set, callbacks=my_callbacks)\n",
    "\n",
    "model.save('my_model2.h5')"
   ]
  },
  {
   "cell_type": "code",
   "execution_count": null,
   "id": "5241a6a8",
   "metadata": {},
   "outputs": [],
   "source": []
  }
 ],
 "metadata": {
  "kernelspec": {
   "display_name": "Python 3 (ipykernel)",
   "language": "python",
   "name": "python3"
  },
  "language_info": {
   "codemirror_mode": {
    "name": "ipython",
    "version": 3
   },
   "file_extension": ".py",
   "mimetype": "text/x-python",
   "name": "python",
   "nbconvert_exporter": "python",
   "pygments_lexer": "ipython3",
   "version": "3.9.13"
  }
 },
 "nbformat": 4,
 "nbformat_minor": 5
}
