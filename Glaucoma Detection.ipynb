{
 "cells": [
  {
   "cell_type": "code",
   "execution_count": 1,
   "id": "ba69c707",
   "metadata": {},
   "outputs": [],
   "source": [
    "import streamlit as st\n",
    "import tensorflow as tf\n",
    "from PIL import Image, ImageOps\n",
    "import numpy as np"
   ]
  },
  {
   "cell_type": "code",
   "execution_count": 2,
   "id": "b2fc60ce",
   "metadata": {},
   "outputs": [],
   "source": [
    "st.set_option('deprecation.showfileUploaderEncoding', False)"
   ]
  },
  {
   "cell_type": "code",
   "execution_count": 3,
   "id": "e3c2117b",
   "metadata": {},
   "outputs": [],
   "source": [
    "# @st.cache(suppress_st_warning=True,allow_output_mutation=True)\n",
    "def import_and_predict(image_data, model):\n",
    "    image = ImageOps.fit(image_data, (100,100),Image.ANTIALIAS)\n",
    "    image = image.convert('RGB')\n",
    "    image = np.asarray(image)\n",
    "    st.image(image, channels='RGB')\n",
    "    image = (image.astype(np.float32) / 255.0)\n",
    "    img_reshape = image[np.newaxis,...]\n",
    "    prediction = model.predict(img_reshape)\n",
    "    return prediction"
   ]
  },
  {
   "cell_type": "code",
   "execution_count": 4,
   "id": "0ef1f828",
   "metadata": {},
   "outputs": [],
   "source": [
    "model = tf.keras.models.load_model('my_model2.h5')"
   ]
  },
  {
   "cell_type": "code",
   "execution_count": 5,
   "id": "4eae9255",
   "metadata": {},
   "outputs": [
    {
     "name": "stderr",
     "output_type": "stream",
     "text": [
      "2022-11-30 14:53:06.112 \n",
      "  \u001b[33m\u001b[1mWarning:\u001b[0m to view this Streamlit app on a browser, run it with the following\n",
      "  command:\n",
      "\n",
      "    streamlit run C:\\Users\\Sai Manideep\\AppData\\Roaming\\Python\\Python39\\site-packages\\ipykernel_launcher.py [ARGUMENTS]\n"
     ]
    }
   ],
   "source": [
    "st.write(\"\"\"\n",
    "         # ***Glaucoma detector***\n",
    "         \"\"\"\n",
    "         )\n",
    "\n",
    "st.write(\"This is a simple image classification web app to predict glaucoma through fundus image of eye\")"
   ]
  },
  {
   "cell_type": "code",
   "execution_count": 6,
   "id": "5ef0e94c",
   "metadata": {},
   "outputs": [],
   "source": [
    "file = st.file_uploader(\"Please upload an image(jpg) file\", type=[\"jpg\"])"
   ]
  },
  {
   "cell_type": "code",
   "execution_count": 7,
   "id": "ee2985df",
   "metadata": {},
   "outputs": [],
   "source": [
    "if file is None:\n",
    "    st.text(\"You haven't uploaded a jpg image file\")\n",
    "else:\n",
    "    imageI = Image.open(file)\n",
    "    prediction = import_and_predict(imageI, model)\n",
    "    pred = prediction[0][0]\n",
    "    if(pred > 0.5):\n",
    "        st.write(\"\"\"\n",
    "                 ## **Prediction:** You eye is Healthy. Great!!\n",
    "                 \"\"\"\n",
    "                 )\n",
    "        st.balloons()\n",
    "    else:\n",
    "        st.write(\"\"\"\n",
    "                 ## **Prediction:** You are affected by Glaucoma. Please consult an ophthalmologist as soon as possible.\n",
    "                 \"\"\"\n",
    "                 )"
   ]
  },
  {
   "cell_type": "code",
   "execution_count": null,
   "id": "71faff5a",
   "metadata": {},
   "outputs": [],
   "source": []
  }
 ],
 "metadata": {
  "kernelspec": {
   "display_name": "Python 3 (ipykernel)",
   "language": "python",
   "name": "python3"
  },
  "language_info": {
   "codemirror_mode": {
    "name": "ipython",
    "version": 3
   },
   "file_extension": ".py",
   "mimetype": "text/x-python",
   "name": "python",
   "nbconvert_exporter": "python",
   "pygments_lexer": "ipython3",
   "version": "3.9.13"
  }
 },
 "nbformat": 4,
 "nbformat_minor": 5
}
